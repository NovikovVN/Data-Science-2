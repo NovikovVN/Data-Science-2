{
  "nbformat": 4,
  "nbformat_minor": 0,
  "metadata": {
    "colab": {
      "name": "NovikovVN_Lesson6.ipynb",
      "provenance": [],
      "collapsed_sections": [
        "Rg5ilDbTbshs",
        "Z2tMUhhXbsjK",
        "gKn5SRC2bsjr",
        "qBVboqCmbsjs"
      ]
    },
    "kernelspec": {
      "display_name": "Python 2",
      "language": "python",
      "name": "python2"
    },
    "language_info": {
      "codemirror_mode": {
        "name": "ipython",
        "version": 2
      },
      "file_extension": ".py",
      "mimetype": "text/x-python",
      "name": "python",
      "nbconvert_exporter": "python",
      "pygments_lexer": "ipython2",
      "version": "2.7.15"
    }
  },
  "cells": [
    {
      "cell_type": "code",
      "metadata": {
        "colab_type": "code",
        "id": "Qk-74OFhbshx",
        "colab": {}
      },
      "source": [
        "import numpy as np\n",
        "import matplotlib.pyplot as plt\n",
        "\n",
        "from sklearn.datasets import load_diabetes\n",
        "from sklearn.model_selection import train_test_split\n",
        "from sklearn.tree import DecisionTreeRegressor\n",
        "from time import time\n",
        "\n",
        "%matplotlib inline"
      ],
      "execution_count": 0,
      "outputs": []
    },
    {
      "cell_type": "markdown",
      "metadata": {
        "colab_type": "text",
        "id": "LYD1kLOibsh0"
      },
      "source": [
        "Используем один из \"игрушечных\" датасетов из той же библиотеки."
      ]
    },
    {
      "cell_type": "code",
      "metadata": {
        "colab_type": "code",
        "id": "leu8bBI7bsh6",
        "colab": {}
      },
      "source": [
        "X, y = load_diabetes(return_X_y=True)\n",
        "X_train, X_test, y_train, y_test = train_test_split(X, y, test_size=0.25, random_state=21)"
      ],
      "execution_count": 0,
      "outputs": []
    },
    {
      "cell_type": "code",
      "metadata": {
        "colab_type": "code",
        "id": "wU_Rkc63bsiA",
        "colab": {}
      },
      "source": [
        "def gb_predict(X, trees_list, coef_list, eta):\n",
        "    return np.array([sum([eta * coef * alg.predict([x])[0] for alg, coef in zip(trees_list, coef_list)]) for x in X])"
      ],
      "execution_count": 0,
      "outputs": []
    },
    {
      "cell_type": "code",
      "metadata": {
        "colab_type": "code",
        "id": "0xbjFIEKbsiE",
        "colab": {}
      },
      "source": [
        "def mean_squared_error(y_real, prediction):\n",
        "    return (sum((y_real - prediction)**2)) / len(y_real)"
      ],
      "execution_count": 0,
      "outputs": []
    },
    {
      "cell_type": "markdown",
      "metadata": {
        "colab_type": "text",
        "id": "Qlr3KD6zbsiH"
      },
      "source": [
        "Используем $L_{2}$ loss $L(y, z) = (y-z)^{2},$ ее производная по $z$ примет вид $L'(y, z) = 2(z-y)$. Реализуем ее также в виде функции (коэффициент 2 можно отбросить)."
      ]
    },
    {
      "cell_type": "code",
      "metadata": {
        "colab_type": "code",
        "id": "WRaZEd3ebsiI",
        "colab": {}
      },
      "source": [
        "def bias(y, z):\n",
        "    return (y - z)"
      ],
      "execution_count": 0,
      "outputs": []
    },
    {
      "cell_type": "markdown",
      "metadata": {
        "colab_type": "text",
        "id": "ut-7dBgVbsiK"
      },
      "source": [
        "Реализуем функцию обучения градиентного бустинга."
      ]
    },
    {
      "cell_type": "code",
      "metadata": {
        "colab_type": "code",
        "id": "HoIdAoPYbsiL",
        "colab": {}
      },
      "source": [
        "def gb_fit(n_trees, max_depth, X_train, X_test, y_train, y_test, coefs, eta):\n",
        "    \n",
        "    # Деревья будем записывать в список\n",
        "    trees = []\n",
        "    \n",
        "    # Будем записывать ошибки на обучающей и тестовой выборке на каждой итерации в список\n",
        "    train_errors = []\n",
        "    test_errors = []\n",
        "    \n",
        "    for i in range(n_trees):\n",
        "        tree = DecisionTreeRegressor(max_depth=max_depth, random_state=42)\n",
        "\n",
        "        # инициализируем бустинг начальным алгоритмом, возвращающим ноль, \n",
        "        # поэтому первый алгоритм просто обучаем на выборке и добавляем в список\n",
        "        if len(trees) == 0:\n",
        "            # обучаем первое дерево на обучающей выборке\n",
        "            tree.fit(X_train, y_train)\n",
        "            \n",
        "        else:\n",
        "            # Получим ответы на текущей композиции\n",
        "            target = gb_predict(X_train, trees, coefs, eta)\n",
        "            \n",
        "            # алгоритмы начиная со второго обучаем на сдвиг\n",
        "            tree.fit(X_train, bias(y_train, target))\n",
        "            \n",
        "        train_errors.append(mean_squared_error(y_train, gb_predict(X_train, trees, coefs, eta)))\n",
        "        test_errors.append(mean_squared_error(y_test, gb_predict(X_test, trees, coefs, eta)))\n",
        "\n",
        "        trees.append(tree)\n",
        "    #    print(i)\n",
        "        \n",
        "    return trees, train_errors, test_errors"
      ],
      "execution_count": 0,
      "outputs": []
    },
    {
      "cell_type": "markdown",
      "metadata": {
        "colab_type": "text",
        "id": "0vkHFhhzbsiN"
      },
      "source": [
        "Обучим модели."
      ]
    },
    {
      "cell_type": "code",
      "metadata": {
        "colab_type": "code",
        "id": "2WvxluSlbsiO",
        "colab": {}
      },
      "source": [
        "# Число деревьев в ансамбле\n",
        "n_trees = 10\n",
        "\n",
        "# для простоты примем коэффициенты равными 1\n",
        "coefs = [1] * n_trees\n",
        "\n",
        "# Максимальная глубина деревьев\n",
        "max_depth = 3\n",
        "\n",
        "# Шаг\n",
        "eta = 1\n",
        "\n",
        "trees, train_errors, test_errors = gb_fit(n_trees, max_depth, X_train, X_test, y_train, y_test, coefs, eta)"
      ],
      "execution_count": 0,
      "outputs": []
    },
    {
      "cell_type": "code",
      "metadata": {
        "colab_type": "code",
        "id": "GDMFn3R-bsiR",
        "colab": {}
      },
      "source": [
        "def evaluate_alg(X_train, X_test, y_train, y_test, trees, coefs, eta, only_print=True):\n",
        "    train_prediction = gb_predict(X_train, trees, coefs, eta)    \n",
        "    train_mse = mean_squared_error(y_train, train_prediction)\n",
        "    \n",
        "    test_prediction = gb_predict(X_test, trees, coefs, eta)\n",
        "    test_mse = mean_squared_error(y_test, test_prediction)\n",
        "    \n",
        "    if only_print:\n",
        "        print('Ошибка алгоритма из {} деревьев глубиной {} \\\n",
        "        с шагом {} на тренировочной выборке: {}'.format(n_trees, max_depth, eta, train_mse))\n",
        "\n",
        "        print('Ошибка алгоритма из {} деревьев глубиной {} \\\n",
        "        с шагом {} на тестовой выборке: {}'.format(n_trees, max_depth, eta, test_mse))\n",
        "    \n",
        "    else:\n",
        "        return train_mse, test_mse"
      ],
      "execution_count": 0,
      "outputs": []
    },
    {
      "cell_type": "code",
      "metadata": {
        "colab_type": "code",
        "id": "WEBbjCynbsiV",
        "outputId": "e3e7bf19-aa15-4340-eceb-e2799f36140c",
        "colab": {}
      },
      "source": [
        "evaluate_alg(X_train, X_test, y_train, y_test, trees, coefs, eta)"
      ],
      "execution_count": 0,
      "outputs": [
        {
          "output_type": "stream",
          "text": [
            "Ошибка алгоритма из 10 деревьев глубиной 3         с шагом 1 на тренировочной выборке: 1079.27278807\n",
            "Ошибка алгоритма из 10 деревьев глубиной 3         с шагом 1 на тестовой выборке: 5636.86678622\n"
          ],
          "name": "stdout"
        }
      ]
    },
    {
      "cell_type": "markdown",
      "metadata": {
        "colab_type": "text",
        "id": "TluGn7Iubsib"
      },
      "source": [
        "Построим графики зависимости ошибки на обучающей и тестовой выборках от числа итераций."
      ]
    },
    {
      "cell_type": "code",
      "metadata": {
        "colab_type": "code",
        "id": "gjDdKkgObsif",
        "colab": {}
      },
      "source": [
        "def get_error_plot(n_trees, train_err, test_err):\n",
        "    plt.xlabel('Iteration number')\n",
        "    plt.ylabel('MSE')\n",
        "    plt.xlim(0, n_trees)\n",
        "    plt.plot(list(range(n_trees)), train_err, label='train error')\n",
        "    plt.plot(list(range(n_trees)), test_err, label='test error')\n",
        "    plt.legend(loc='upper right')\n",
        "    plt.show()"
      ],
      "execution_count": 0,
      "outputs": []
    },
    {
      "cell_type": "code",
      "metadata": {
        "colab_type": "code",
        "id": "Was5hOJPbsih",
        "outputId": "e4a4837d-6d3e-4861-8a35-fa26d5746f62",
        "colab": {}
      },
      "source": [
        "get_error_plot(n_trees, train_errors, test_errors)"
      ],
      "execution_count": 0,
      "outputs": [
        {
          "output_type": "display_data",
          "data": {
            "image/png": "[encoded data removed]",
            "text/plain": [
              "<Figure size 432x288 with 1 Axes>"
            ]
          },
          "metadata": {
            "tags": []
          }
        }
      ]
    },
    {
      "cell_type": "markdown",
      "metadata": {
        "id": "MO1rdviVhY15",
        "colab_type": "text"
      },
      "source": [
        "**1). Для реализованной модели построить графики зависимости ошибки от количества деревьев в ансамбле и от максимальной глубины деревьев. Сделать выводы о зависимости ошибки от этих параметров.**"
      ]
    },
    {
      "cell_type": "markdown",
      "metadata": {
        "id": "tF4WoF6vhY17",
        "colab_type": "text"
      },
      "source": [
        "Глубина:"
      ]
    },
    {
      "cell_type": "code",
      "metadata": {
        "scrolled": false,
        "id": "UajnlTA1hY18",
        "colab_type": "code",
        "colab": {}
      },
      "source": [
        "n_trees = 20\n",
        "eta = 0.1\n",
        "tree_depths = np.arange(1, 25)\n",
        "train_mse_list = []\n",
        "test_mse_list = []\n",
        "\n",
        "for max_depth in tree_depths:\n",
        "    trees = gb_fit(n_trees, max_depth, X_train, X_test, y_train, y_test, coefs, eta)[0]\n",
        "    train_mse, test_mse = evaluate_alg(X_train, X_test, y_train, y_test, trees, coefs, eta, only_print=False)\n",
        "    train_mse_list.append(train_mse)\n",
        "    test_mse_list.append(test_mse)"
      ],
      "execution_count": 0,
      "outputs": []
    },
    {
      "cell_type": "code",
      "metadata": {
        "id": "P6XR6bZKhY2A",
        "colab_type": "code",
        "colab": {},
        "outputId": "d5549fba-249a-46f3-966a-4a20d37dc5ad"
      },
      "source": [
        "plt.axvline(np.argmin(test_mse_list)+1, c='red', ls='--', label='Optimal depth')\n",
        "plt.plot(tree_depths, train_mse_list, marker='o', label='train error')\n",
        "plt.plot(tree_depths, test_mse_list, marker='o', label='test error')\n",
        "plt.xlabel('Depth')\n",
        "plt.ylabel('MSE')\n",
        "plt.legend(loc='center right')\n",
        "plt.grid(True)\n",
        "plt.show()"
      ],
      "execution_count": 0,
      "outputs": [
        {
          "output_type": "display_data",
          "data": {
            "image/png": "[encoded data removed]",
            "text/plain": [
              "<Figure size 432x288 with 1 Axes>"
            ]
          },
          "metadata": {
            "tags": []
          }
        }
      ]
    },
    {
      "cell_type": "markdown",
      "metadata": {
        "id": "0yZucrHOhY2F",
        "colab_type": "text"
      },
      "source": [
        "Количество деревьев:"
      ]
    },
    {
      "cell_type": "code",
      "metadata": {
        "id": "qy1uLPfMhY2G",
        "colab_type": "code",
        "colab": {}
      },
      "source": [
        "eta = 0.1\n",
        "max_depth = 3\n",
        "total_trees_counts = np.arange(1, 45, 3)\n",
        "train_mse_list = []\n",
        "test_mse_list = []\n",
        "time_costs = []\n",
        "\n",
        "for n_trees in total_trees_counts:\n",
        "    time_start = time()\n",
        "    trees = gb_fit(n_trees, max_depth, X_train, X_test, y_train, y_test, coefs, eta)[0]\n",
        "    train_mse, test_mse = evaluate_alg(X_train, X_test, y_train, y_test, trees, coefs, eta, only_print=False)\n",
        "    time_finish = time()\n",
        "    train_mse_list.append(train_mse)\n",
        "    test_mse_list.append(test_mse)\n",
        "    time_costs.append(time_finish - time_start)"
      ],
      "execution_count": 0,
      "outputs": []
    },
    {
      "cell_type": "code",
      "metadata": {
        "id": "h-8VGUG7hY2L",
        "colab_type": "code",
        "colab": {},
        "outputId": "94fe6f82-c2d0-4ae3-e83e-5fc35fbd70c7"
      },
      "source": [
        "plt.plot(total_trees_counts, train_mse_list, marker='o', label='train error')\n",
        "plt.plot(total_trees_counts, test_mse_list, marker='o', label='test error')\n",
        "plt.xlabel('Trees counts')\n",
        "plt.ylabel('MSE')\n",
        "plt.legend(loc='upper right')\n",
        "plt.grid(True)\n",
        "plt.show()\n",
        "\n",
        "plt.plot(total_trees_counts, time_costs, marker='o', c='g')\n",
        "plt.xlabel('Trees counts')\n",
        "plt.ylabel('Time')\n",
        "plt.legend(loc='upper right')\n",
        "plt.grid(True)\n",
        "plt.show()"
      ],
      "execution_count": 0,
      "outputs": [
        {
          "output_type": "display_data",
          "data": {
            "image/png": "[encoded data removed]",
            "text/plain": [
              "<Figure size 432x288 with 1 Axes>"
            ]
          },
          "metadata": {
            "tags": []
          }
        },
        {
          "output_type": "display_data",
          "data": {
            "image/png": "[encoded data removed]",
            "text/plain": [
              "<Figure size 432x288 with 1 Axes>"
            ]
          },
          "metadata": {
            "tags": []
          }
        }
      ]
    },
    {
      "cell_type": "markdown",
      "metadata": {
        "id": "DFBCsonbhY2P",
        "colab_type": "text"
      },
      "source": [
        "**Вывод:**\n",
        " - маленькая глубина деревьев в модели градиентного бустинга может способствовать ее недообучению, а слишком большая - переобучению, что видно по выскоим уровням ошибки на соответствующих участках графика;\n",
        " - на некотором количестве деревьев модель градиентного бустинга сходится, и дальнейшее добавление в нее деревьев может стать нецелесообразным (ошибка не изменится). Кроме того, это лишний раз увеличит время обучения."
      ]
    },
    {
      "cell_type": "markdown",
      "metadata": {
        "id": "Mddulxi8hY2Q",
        "colab_type": "text"
      },
      "source": [
        "**2). Модифицировать реализованный алгоритм, чтобы получился стохастический градиентный бустинг. Размер подвыборки принять равным 0.5. Сравнить на одном графике кривые изменения ошибки на тестовой выборке в зависимости от числа итераций.**"
      ]
    },
    {
      "cell_type": "code",
      "metadata": {
        "id": "hy9fgWk4hY2S",
        "colab_type": "code",
        "colab": {}
      },
      "source": [
        "def sgb_fit(n_trees, max_depth, X_train, X_test, y_train, y_test, coefs, eta):\n",
        "    trees = []\n",
        "    train_errors = []\n",
        "    test_errors = []\n",
        "    \n",
        "    np.random.seed(42)\n",
        "    n_samples = X_train.shape[0]\n",
        "    n_samples_for_sgb = int(0.5 * n_samples)\n",
        "    indexes = np.arange(n_samples)\n",
        "    \n",
        "    for i in range(n_trees):\n",
        "        tree = DecisionTreeRegressor(max_depth=max_depth, random_state=42)\n",
        "        \n",
        "        sgb_indexes = np.random.choice(indexes, n_samples_for_sgb)\n",
        "\n",
        "        if len(trees) == 0:\n",
        "            tree.fit(X_train[sgb_indexes], y_train[sgb_indexes])            \n",
        "        else:\n",
        "            target = gb_predict(X_train[sgb_indexes], trees, coefs, eta)\n",
        "            tree.fit(X_train[sgb_indexes], bias(y_train[sgb_indexes], target))\n",
        "            \n",
        "        train_errors.append(mean_squared_error(y_train, gb_predict(X_train, trees, coefs, eta)))\n",
        "        test_errors.append(mean_squared_error(y_test, gb_predict(X_test, trees, coefs, eta)))\n",
        "\n",
        "        trees.append(tree)\n",
        "        \n",
        "    return trees, train_errors, test_errors"
      ],
      "execution_count": 0,
      "outputs": []
    },
    {
      "cell_type": "code",
      "metadata": {
        "id": "ag0th1IWhY2W",
        "colab_type": "code",
        "colab": {},
        "outputId": "198f1062-75cd-4ee8-b276-5935ed9c5940"
      },
      "source": [
        "n_trees = 10\n",
        "max_depth = 3\n",
        "eta = 1\n",
        "\n",
        "%time train_errors, test_errors = gb_fit(n_trees, max_depth, X_train, X_test, y_train, y_test, coefs, eta)[1:]\n",
        "%time sgb_train_errors, sgb_test_errors = sgb_fit(n_trees, max_depth, X_train, X_test, y_train, y_test, coefs, eta)[1:]"
      ],
      "execution_count": 0,
      "outputs": [
        {
          "output_type": "stream",
          "text": [
            "Wall time: 5.6 s\n",
            "Wall time: 4.41 s\n"
          ],
          "name": "stdout"
        }
      ]
    },
    {
      "cell_type": "code",
      "metadata": {
        "id": "FxbtK7XBhY2a",
        "colab_type": "code",
        "colab": {},
        "outputId": "d94871a4-22db-4afb-96a6-78f2039dfde3"
      },
      "source": [
        "iterations = np.arange(1, n_trees+1)\n",
        "\n",
        "for title, gb_errors, sgb_errors in zip(['Train errors', 'Test errors'],\n",
        "                                        [train_errors, test_errors],\n",
        "                                        [sgb_train_errors, sgb_test_errors]):\n",
        "    plt.plot(iterations, gb_errors, label='GB')\n",
        "    plt.plot(iterations, sgb_errors, label='SGB')\n",
        "    plt.title(title)\n",
        "    plt.xlabel('Iteration number')\n",
        "    plt.ylabel('MSE')\n",
        "    plt.legend(loc='upper right')\n",
        "    plt.grid(True)\n",
        "    plt.show()    "
      ],
      "execution_count": 0,
      "outputs": [
        {
          "output_type": "display_data",
          "data": {
            "image/png": "[encoded data removed]",
            "text/plain": [
              "<Figure size 432x288 with 1 Axes>"
            ]
          },
          "metadata": {
            "tags": []
          }
        },
        {
          "output_type": "display_data",
          "data": {
            "image/png": "[encoded data removed]",
            "text/plain": [
              "<Figure size 432x288 with 1 Axes>"
            ]
          },
          "metadata": {
            "tags": []
          }
        }
      ]
    },
    {
      "cell_type": "markdown",
      "metadata": {
        "colab_type": "text",
        "id": "VTfvEdBDbsjs"
      },
      "source": [
        "**Вывод:** модель стохастического градиентного бустинга показывает несколько худшее качество, чем полный вариант (но не критично). Тем не менее, обучается она быстрее."
      ]
    }
  ]
}