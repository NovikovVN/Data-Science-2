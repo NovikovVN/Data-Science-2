{
 "cells": [
  {
   "cell_type": "code",
   "execution_count": 0,
   "metadata": {
    "colab": {},
    "colab_type": "code",
    "id": "vXR38zpFj0tM"
   },
   "outputs": [],
   "source": [
    "import matplotlib.pyplot as plt\n",
    "import random\n",
    "\n",
    "from matplotlib.colors import ListedColormap\n",
    "from sklearn import datasets\n",
    "from sklearn.metrics import accuracy_score, r2_score\n",
    "from sklearn.model_selection import train_test_split\n",
    "\n",
    "import numpy as np"
   ]
  },
  {
   "cell_type": "markdown",
   "metadata": {
    "colab_type": "text",
    "id": "noB76aXFj0tY"
   },
   "source": [
    "# Классификация"
   ]
  },
  {
   "cell_type": "code",
   "execution_count": 0,
   "metadata": {
    "colab": {},
    "colab_type": "code",
    "id": "wEqj0hWYj0ta"
   },
   "outputs": [],
   "source": [
    "# сгенерируем данные\n",
    "classification_data, classification_labels = datasets.make_classification(n_features = 10, n_informative = 5, \n",
    "                                                      n_classes = 2, n_redundant=0, \n",
    "                                                      n_clusters_per_class=1, random_state=5)"
   ]
  },
  {
   "cell_type": "code",
   "execution_count": 0,
   "metadata": {
    "colab": {},
    "colab_type": "code",
    "id": "W2s03IFgj0tg",
    "outputId": "9fea3c43-d45a-494c-b8f3-08c62dace04f"
   },
   "outputs": [
    {
     "data": {
      "image/png": "[encoded data removed]",
      "text/plain": [
       "<Figure size 576x576 with 1 Axes>"
      ]
     },
     "metadata": {
      "tags": []
     },
     "output_type": "display_data"
    }
   ],
   "source": [
    "# визуализируем сгенерированные данные\n",
    "\n",
    "colors = ListedColormap(['red', 'blue'])\n",
    "light_colors = ListedColormap(['lightcoral', 'lightblue'])\n",
    "\n",
    "plt.figure(figsize=(8,8))\n",
    "plt.scatter(list(map(lambda x: x[0], classification_data)), list(map(lambda x: x[1], classification_data)), \n",
    "              c=classification_labels, cmap=colors);"
   ]
  },
  {
   "cell_type": "code",
   "execution_count": 0,
   "metadata": {
    "colab": {},
    "colab_type": "code",
    "id": "Gsb_uMlGj0tp"
   },
   "outputs": [],
   "source": [
    "# Реализуем класс узла\n",
    "\n",
    "class Node:\n",
    "    \n",
    "    def __init__(self, index, t, true_branch, false_branch):\n",
    "        self.index = index  # индекс признака, по которому ведется сравнение с порогом в этом узле\n",
    "        self.t = t  # значение порога\n",
    "        self.true_branch = true_branch  # поддерево, удовлетворяющее условию в узле\n",
    "        self.false_branch = false_branch  # поддерево, не удовлетворяющее условию в узле"
   ]
  },
  {
   "cell_type": "code",
   "execution_count": 0,
   "metadata": {
    "colab": {},
    "colab_type": "code",
    "id": "uJySUbmuj0tv"
   },
   "outputs": [],
   "source": [
    "# И класс терминального узла (листа)\n",
    "\n",
    "class Leaf:\n",
    "    \n",
    "    def __init__(self, data, target, tree_type='classification'):\n",
    "        self.data = data\n",
    "        self.target = target\n",
    "        self.tree_type = tree_type\n",
    "        self.prediction = self.predict()\n",
    "        \n",
    "    def predict(self):\n",
    "        if self.tree_type == 'regression':\n",
    "            prediction = np.mean(self.target)\n",
    "            return prediction\n",
    "        # подсчет количества объектов разных классов\n",
    "        classes = {}  # сформируем словарь \"класс: количество объектов\"\n",
    "        for label in self.target:\n",
    "            if label not in classes:\n",
    "                classes[label] = 0\n",
    "            classes[label] += 1\n",
    "        #  найдем класс, количество объектов которого будет максимальным в этом листе и вернем его    \n",
    "        prediction = max(classes, key=classes.get)\n",
    "        return prediction"
   ]
  },
  {
   "cell_type": "code",
   "execution_count": 0,
   "metadata": {
    "colab": {},
    "colab_type": "code",
    "id": "JKC5LFqlj0t1"
   },
   "outputs": [],
   "source": [
    "# Расчет критерия Джини\n",
    "\n",
    "def gini(labels):\n",
    "    #  подсчет количества объектов разных классов\n",
    "    classes = {}\n",
    "    for label in labels:\n",
    "        if label not in classes:\n",
    "            classes[label] = 0\n",
    "        classes[label] += 1\n",
    "    \n",
    "    #  расчет критерия\n",
    "    impurity = 1\n",
    "    for label in classes:\n",
    "        p = classes[label] / len(labels)\n",
    "        impurity -= p ** 2\n",
    "        \n",
    "    return impurity"
   ]
  },
  {
   "cell_type": "code",
   "execution_count": 0,
   "metadata": {
    "colab": {},
    "colab_type": "code",
    "id": "HSK6HshOj0t7"
   },
   "outputs": [],
   "source": [
    "# Расчет дисперсии\n",
    "\n",
    "def variance(target):\n",
    "    if len(target) <= 30:\n",
    "        return np.var(target, ddof=1)\n",
    "    return np.var(target)"
   ]
  },
  {
   "cell_type": "code",
   "execution_count": 0,
   "metadata": {
    "colab": {},
    "colab_type": "code",
    "id": "kgF4wxvpj0uA"
   },
   "outputs": [],
   "source": [
    "# Расчет качества\n",
    "\n",
    "def quality(left_labels, right_labels, current_gini):\n",
    "\n",
    "    # доля выбоки, ушедшая в левое поддерево\n",
    "    p = float(left_labels.shape[0]) / (left_labels.shape[0] + right_labels.shape[0])\n",
    "    \n",
    "    return current_gini - p * gini(left_labels) - (1 - p) * gini(right_labels)"
   ]
  },
  {
   "cell_type": "code",
   "execution_count": 0,
   "metadata": {
    "colab": {},
    "colab_type": "code",
    "id": "cbg05Evoj0uF"
   },
   "outputs": [],
   "source": [
    "# Разбиение датасета в узле\n",
    "\n",
    "def split(data, target, index, t):\n",
    "    \n",
    "    left = np.where(data[:, index] <= t)\n",
    "    right = np.where(data[:, index] > t)\n",
    "        \n",
    "    true_data = data[left]\n",
    "    false_data = data[right]\n",
    "    true_target = target[left]\n",
    "    false_target = target[right]\n",
    "        \n",
    "    return true_data, false_data, true_target, false_target"
   ]
  },
  {
   "cell_type": "code",
   "execution_count": 0,
   "metadata": {
    "colab": {},
    "colab_type": "code",
    "id": "Ty3zaWL9j0uK"
   },
   "outputs": [],
   "source": [
    "# Нахождение наилучшего разбиения\n",
    "\n",
    "def find_best_split(data, target, tree_type='classification'):\n",
    "    \n",
    "    #  обозначим минимальное количество объектов в узле\n",
    "    min_leaf = 5\n",
    "    \n",
    "    if tree_type == 'regression':\n",
    "        current_variance = variance(target)\n",
    "    else:\n",
    "        current_gini = gini(target)\n",
    "\n",
    "    best_quality = 0\n",
    "    best_t = None\n",
    "    best_index = None\n",
    "    \n",
    "    n_features = data.shape[1]\n",
    "    \n",
    "    for index in range(n_features):\n",
    "        t_values = [row[index] for row in data]\n",
    "        \n",
    "        for t in t_values:\n",
    "            true_data, false_data, true_target, false_target = split(data, target, index, t)\n",
    "            #  пропускаем разбиения, в которых в узле остается менее 5 объектов\n",
    "            if len(true_data) < min_leaf or len(false_data) < min_leaf:\n",
    "                continue\n",
    "            \n",
    "            if tree_type == 'regression':\n",
    "                current_quality = current_variance - variance(true_target)\n",
    "            else:\n",
    "                current_quality = quality(true_target, false_target, current_gini)\n",
    "            \n",
    "            #  выбираем порог, на котором получается максимальный прирост качества\n",
    "            if current_quality > best_quality:\n",
    "                best_quality, best_t, best_index = current_quality, t, index\n",
    "\n",
    "    return best_quality, best_t, best_index"
   ]
  },
  {
   "cell_type": "code",
   "execution_count": 0,
   "metadata": {
    "colab": {},
    "colab_type": "code",
    "id": "oq5xBTRjj0uO"
   },
   "outputs": [],
   "source": [
    "# Построение дерева с помощью рекурсивной функции\n",
    "\n",
    "def build_tree(data, target, max_depth=None, n_splits=0,\n",
    "               max_feature_splits=None, feature_splits={},\n",
    "               tree_type='classification'):\n",
    "\n",
    "    quality, t, index = find_best_split(data, target, tree_type)\n",
    "\n",
    "    #  Базовый случай - прекращаем рекурсию, когда нет прироста в качества\n",
    "    if quality == 0:\n",
    "        return Leaf(data, target, tree_type)\n",
    "   \n",
    "    #  Ограничение на глубину\n",
    "    if max_depth:\n",
    "        if n_splits == max_depth:\n",
    "            return Leaf(data, target, tree_type)\n",
    "        n_splits += 1        \n",
    "            \n",
    "    # Ограничение на количество разбиений признака        \n",
    "    if max_feature_splits:\n",
    "        feature_splits[index] = feature_splits.setdefault(index, 0) + 1\n",
    "        if max_feature_splits in feature_splits.values():\n",
    "            return Leaf(data, target, tree_type)\n",
    "\n",
    "    true_data, false_data, true_target, false_target = split(data, target, index, t)\n",
    "\n",
    "    # Рекурсивно строим два поддерева,\n",
    "    # передавая обновляемые параметры\n",
    "    true_branch = build_tree(true_data, true_target, max_depth, n_splits,\n",
    "                             max_feature_splits, feature_splits, tree_type)\n",
    "    false_branch = build_tree(false_data, false_target, max_depth, n_splits,\n",
    "                              max_feature_splits, feature_splits, tree_type)\n",
    "\n",
    "    # Возвращаем класс узла со всеми поддеревьями, то есть целого дерева\n",
    "    return Node(index, t, true_branch, false_branch)"
   ]
  },
  {
   "cell_type": "code",
   "execution_count": 0,
   "metadata": {
    "colab": {},
    "colab_type": "code",
    "id": "La7ncpRRj0uT"
   },
   "outputs": [],
   "source": [
    "def predict_object(obj, node):\n",
    "\n",
    "    #  Останавливаем рекурсию, если достигли листа\n",
    "    if isinstance(node, Leaf):\n",
    "        answer = node.prediction\n",
    "        return answer\n",
    "\n",
    "    if obj[node.index] <= node.t:\n",
    "        return predict_object(obj, node.true_branch)\n",
    "    else:\n",
    "        return predict_object(obj, node.false_branch)"
   ]
  },
  {
   "cell_type": "code",
   "execution_count": 0,
   "metadata": {
    "colab": {},
    "colab_type": "code",
    "id": "_lJzFpw2j0uZ"
   },
   "outputs": [],
   "source": [
    "def predict(data, tree):\n",
    "    \n",
    "    predictions = []\n",
    "    for obj in data:\n",
    "        prediction = predict_object(obj, tree)\n",
    "        predictions.append(prediction)\n",
    "    return predictions"
   ]
  },
  {
   "cell_type": "code",
   "execution_count": 0,
   "metadata": {
    "colab": {},
    "colab_type": "code",
    "id": "mRPYhoF-j0ue"
   },
   "outputs": [],
   "source": [
    "# Разобьем выборку на обучающую и тестовую\n",
    "train_data, test_data, train_labels, test_labels = train_test_split(classification_data, \n",
    "                                                                    classification_labels, \n",
    "                                                                    test_size = 0.3,\n",
    "                                                                    random_state = 1)"
   ]
  },
  {
   "cell_type": "code",
   "execution_count": 0,
   "metadata": {
    "colab": {},
    "colab_type": "code",
    "id": "0bzsncpjj0uj"
   },
   "outputs": [],
   "source": [
    "# Построим деревья по обучающей выборке:\n",
    "# одно без ограничений, два - с реализованными ограничениями\n",
    "\n",
    "my_tree = build_tree(train_data, train_labels)\n",
    "tree_with_max_depth = build_tree(train_data, train_labels, max_depth=2)\n",
    "tree_with_max_feature_splits = build_tree(train_data, train_labels, max_feature_splits=2)"
   ]
  },
  {
   "cell_type": "code",
   "execution_count": 0,
   "metadata": {
    "colab": {},
    "colab_type": "code",
    "id": "I5NoJ322j0uq"
   },
   "outputs": [],
   "source": [
    "# Напечатаем ход нашего дерева\n",
    "def print_tree(node, spacing=\"\"):\n",
    "\n",
    "    # Если лист, то выводим его прогноз\n",
    "    if isinstance(node, Leaf):\n",
    "        print spacing + \"Прогноз: \" + str(node.prediction)\n",
    "        return\n",
    "\n",
    "    # Выведем значение индекса и порога на этом узле\n",
    "    print spacing + 'Индекс: '+ str(node.index)\n",
    "    print spacing + 'Порог: ' + str(node.t)\n",
    "\n",
    "    # Рекурсионный вызов функции на положительном поддереве\n",
    "    print  spacing + '--> True:'\n",
    "    print_tree(node.true_branch, spacing + \"  \")\n",
    "\n",
    "    # Рекурсионный вызов функции на положительном поддереве\n",
    "    print  spacing + '--> False:'\n",
    "    print_tree(node.false_branch, spacing + \"  \")"
   ]
  },
  {
   "cell_type": "code",
   "execution_count": 0,
   "metadata": {
    "colab": {},
    "colab_type": "code",
    "id": "MGm8Z4Odj0uv",
    "outputId": "ba0acaa5-79b7-4cd4-efb5-b3fa89b50c56"
   },
   "outputs": [
    {
     "name": "stdout",
     "output_type": "stream",
     "text": [
      "Индекс: 0\n",
      "Порог: 1.2200828189524273\n",
      "--> True:\n",
      "  Индекс: 6\n",
      "  Порог: 0.5833482249908981\n",
      "  --> True:\n",
      "    Индекс: 3\n",
      "    Порог: -0.08738921218053775\n",
      "    --> True:\n",
      "      Индекс: 3\n",
      "      Порог: -0.6905220685318461\n",
      "      --> True:\n",
      "        Прогноз: 0\n",
      "      --> False:\n",
      "        Прогноз: 1\n",
      "    --> False:\n",
      "      Прогноз: 1\n",
      "  --> False:\n",
      "    Прогноз: 0\n",
      "--> False:\n",
      "  Прогноз: 1\n"
     ]
    }
   ],
   "source": [
    "print_tree(my_tree)"
   ]
  },
  {
   "cell_type": "code",
   "execution_count": 0,
   "metadata": {
    "colab": {},
    "colab_type": "code",
    "id": "TAjFbZ3fj0u9",
    "outputId": "393d72f0-3223-4258-d347-fd51d941c5fb"
   },
   "outputs": [
    {
     "name": "stdout",
     "output_type": "stream",
     "text": [
      "Индекс: 0\n",
      "Порог: 1.2200828189524273\n",
      "--> True:\n",
      "  Индекс: 6\n",
      "  Порог: 0.5833482249908981\n",
      "  --> True:\n",
      "    Прогноз: 1\n",
      "  --> False:\n",
      "    Прогноз: 0\n",
      "--> False:\n",
      "  Прогноз: 1\n"
     ]
    }
   ],
   "source": [
    "print_tree(tree_with_max_depth)"
   ]
  },
  {
   "cell_type": "code",
   "execution_count": 0,
   "metadata": {
    "colab": {},
    "colab_type": "code",
    "id": "LDsjoUylj0vC",
    "outputId": "e1aa523d-0dde-48f7-cbd4-46e3466cc6e1"
   },
   "outputs": [
    {
     "name": "stdout",
     "output_type": "stream",
     "text": [
      "Индекс: 0\n",
      "Порог: 1.2200828189524273\n",
      "--> True:\n",
      "  Индекс: 6\n",
      "  Порог: 0.5833482249908981\n",
      "  --> True:\n",
      "    Индекс: 3\n",
      "    Порог: -0.08738921218053775\n",
      "    --> True:\n",
      "      Прогноз: 0\n",
      "    --> False:\n",
      "      Прогноз: 1\n",
      "  --> False:\n",
      "    Прогноз: 0\n",
      "--> False:\n",
      "  Прогноз: 1\n"
     ]
    }
   ],
   "source": [
    "print_tree(tree_with_max_feature_splits)"
   ]
  },
  {
   "cell_type": "code",
   "execution_count": 0,
   "metadata": {
    "colab": {},
    "colab_type": "code",
    "id": "eJmbq5-Ej0vI",
    "outputId": "f00074f4-62c5-44de-9e58-da2269d5a034"
   },
   "outputs": [
    {
     "name": "stdout",
     "output_type": "stream",
     "text": [
      "Доля верных ответов\n",
      "tree_with_max_depth: 0.9\n",
      "my_tree: 0.9\n"
     ]
    }
   ],
   "source": [
    "my_tree_pred = predict(test_data, my_tree)\n",
    "tree_with_max_depth_pred = predict(test_data, my_tree)\n",
    "\n",
    "print 'Доля верных ответов'\n",
    "print 'tree_with_max_depth: ' + str(accuracy_score(test_labels, tree_with_max_depth_pred))\n",
    "print 'my_tree: ' + str(accuracy_score(test_labels, my_tree_pred))"
   ]
  },
  {
   "cell_type": "markdown",
   "metadata": {
    "colab_type": "text",
    "id": "npW2ypQ4j0vP"
   },
   "source": [
    "# Регрессия"
   ]
  },
  {
   "cell_type": "code",
   "execution_count": 0,
   "metadata": {
    "colab": {},
    "colab_type": "code",
    "id": "CPsBzouIj0vQ"
   },
   "outputs": [],
   "source": [
    "# сгенерируем данные\n",
    "n = 2\n",
    "regression_data, regression_target = datasets.make_regression(n_samples=150, n_features=n,\n",
    "                                                              n_informative=n, noise=1,\n",
    "                                                              random_state=0)"
   ]
  },
  {
   "cell_type": "code",
   "execution_count": 0,
   "metadata": {
    "colab": {},
    "colab_type": "code",
    "id": "Ym-60JT9j0vW"
   },
   "outputs": [],
   "source": [
    "train_data, test_data, train_target, test_target = train_test_split(regression_data, \n",
    "                                                                    regression_target, \n",
    "                                                                    test_size = 0.3,\n",
    "                                                                    random_state = 1)"
   ]
  },
  {
   "cell_type": "markdown",
   "metadata": {
    "colab_type": "text",
    "id": "4DRUqlmHj0va"
   },
   "source": [
    "Построим дерево регресии и ограничим его глубину до четырех разбиений:"
   ]
  },
  {
   "cell_type": "code",
   "execution_count": 0,
   "metadata": {
    "colab": {},
    "colab_type": "code",
    "id": "e7E4sHxPj0vb"
   },
   "outputs": [],
   "source": [
    "regression_tree = build_tree(train_data, train_target, max_depth=4, tree_type='regression')\n",
    "\n",
    "regression_pred = predict(test_data, regression_tree)"
   ]
  },
  {
   "cell_type": "code",
   "execution_count": 0,
   "metadata": {
    "colab": {},
    "colab_type": "code",
    "id": "0hy5IyOTj0vf",
    "outputId": "0348c3a1-4ca1-489c-a33b-b41cc8e37953"
   },
   "outputs": [
    {
     "name": "stdout",
     "output_type": "stream",
     "text": [
      "Индекс: 1\n",
      "Порог: -1.188859257784029\n",
      "--> True:\n",
      "  Индекс: 0\n",
      "  Порог: 0.18877859679382855\n",
      "  --> True:\n",
      "    Прогноз: -102.30760411802227\n",
      "  --> False:\n",
      "    Прогноз: -68.2462278814056\n",
      "--> False:\n",
      "  Индекс: 1\n",
      "  Порог: -0.8034096641738411\n",
      "  --> True:\n",
      "    Индекс: 0\n",
      "    Порог: -0.6895497777502005\n",
      "    --> True:\n",
      "      Прогноз: -111.10590484038701\n",
      "    --> False:\n",
      "      Прогноз: -52.5030385472397\n",
      "  --> False:\n",
      "    Индекс: 1\n",
      "    Порог: -0.5973160689653627\n",
      "    --> True:\n",
      "      Индекс: 0\n",
      "      Порог: -0.3595531615405413\n",
      "      --> True:\n",
      "        Прогноз: -66.24637052785101\n",
      "      --> False:\n",
      "        Прогноз: -20.805830922267546\n",
      "    --> False:\n",
      "      Индекс: 1\n",
      "      Порог: -0.3108861716984717\n",
      "      --> True:\n",
      "        Прогноз: -12.833168062885932\n",
      "      --> False:\n",
      "        Прогноз: 48.52447850252472\n"
     ]
    }
   ],
   "source": [
    "print_tree(regression_tree)"
   ]
  },
  {
   "cell_type": "markdown",
   "metadata": {
    "colab_type": "text",
    "id": "4JGcjTUFj0vk"
   },
   "source": [
    "Построим диаграммы тестовых данных и предсказание дерева:"
   ]
  },
  {
   "cell_type": "code",
   "execution_count": 0,
   "metadata": {
    "colab": {},
    "colab_type": "code",
    "id": "DdEQOkcVj0vn",
    "outputId": "e77250bd-eefb-4cd3-eaec-198b6c9aaa27"
   },
   "outputs": [
    {
     "data": {
      "image/png": "[encoded data removed]",
      "text/plain": [
       "<Figure size 1080x576 with 2 Axes>"
      ]
     },
     "metadata": {
      "tags": []
     },
     "output_type": "display_data"
    }
   ],
   "source": [
    "fig, axes = plt.subplots(1, 2, figsize=(15,8))\n",
    "for i in [0, 1]:\n",
    "    axes[i].scatter(test_data[:, i], regression_pred, label='pred')\n",
    "    axes[i].scatter(test_data[:, i], test_target, label='true')\n",
    "    axes[i].set_xlabel('test_data[:, {}]'.format(i))\n",
    "    axes[i].set_ylabel('target')\n",
    "    axes[i].legend(loc='best')"
   ]
  },
  {
   "cell_type": "markdown",
   "metadata": {
    "colab_type": "text",
    "id": "RmJgyOgFj0vt"
   },
   "source": [
    "Вычислим коэффициен детерминации:"
   ]
  },
  {
   "cell_type": "code",
   "execution_count": 0,
   "metadata": {
    "colab": {},
    "colab_type": "code",
    "id": "Q1lkC1nOj0vu",
    "outputId": "23b765f0-41ac-4a36-f0b4-a138bb3161cd"
   },
   "outputs": [
    {
     "data": {
      "text/plain": [
       "0.4967200235866669"
      ]
     },
     "execution_count": 26,
     "metadata": {
      "tags": []
     },
     "output_type": "execute_result"
    }
   ],
   "source": [
    "r2_score(test_target, regression_pred)"
   ]
  },
  {
   "cell_type": "markdown",
   "metadata": {
    "colab_type": "text",
    "id": "Q25oDlavj0vy"
   },
   "source": [
    "Он в нужных пределах (от 0 до 1)."
   ]
  }
 ],
 "metadata": {
  "colab": {
   "name": "Lesson4.ipynb",
   "provenance": []
  },
  "kernelspec": {
   "display_name": "Python 2",
   "language": "python",
   "name": "python2"
  },
  "language_info": {
   "codemirror_mode": {
    "name": "ipython",
    "version": 2
   },
   "file_extension": ".py",
   "mimetype": "text/x-python",
   "name": "python",
   "nbconvert_exporter": "python",
   "pygments_lexer": "ipython2",
   "version": "2.7.16"
  }
 },
 "nbformat": 4,
 "nbformat_minor": 1
}
